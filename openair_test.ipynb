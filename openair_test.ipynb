{
  "nbformat": 4,
  "nbformat_minor": 0,
  "metadata": {
    "colab": {
      "provenance": [],
      "authorship_tag": "ABX9TyMSsnX1t/Sq4GOKHbs74VHr",
      "include_colab_link": true
    },
    "kernelspec": {
      "name": "ir",
      "display_name": "R"
    },
    "language_info": {
      "name": "R"
    },
    "gpuClass": "standard"
  },
  "cells": [
    {
      "cell_type": "markdown",
      "metadata": {
        "id": "view-in-github",
        "colab_type": "text"
      },
      "source": [
        "<a href=\"https://colab.research.google.com/github/waveology/openair/blob/main/openair_test.ipynb\" target=\"_parent\"><img src=\"https://colab.research.google.com/assets/colab-badge.svg\" alt=\"Open In Colab\"/></a>"
      ]
    },
    {
      "cell_type": "markdown",
      "source": [
        "## Ejemplo de Jupyter notebook en R"
      ],
      "metadata": {
        "id": "lTduaLQ7rF6g"
      }
    },
    {
      "cell_type": "markdown",
      "source": [
        "Así se cargan ficheros remotos con wget desde un Notebook en R"
      ],
      "metadata": {
        "id": "kA6u21hlsW4H"
      }
    },
    {
      "cell_type": "code",
      "source": [
        "system('wget https://github.com/waveology/openair/raw/main/2021.xlsx')"
      ],
      "metadata": {
        "id": "auHV5sCorOzQ"
      },
      "execution_count": null,
      "outputs": []
    },
    {
      "cell_type": "markdown",
      "source": [
        "Instalar openair"
      ],
      "metadata": {
        "id": "Duk0Uay4suXG"
      }
    },
    {
      "cell_type": "code",
      "execution_count": null,
      "metadata": {
        "id": "cqwdtZKpW2Pu"
      },
      "outputs": [],
      "source": [
        "install.packages(\"openair\")"
      ]
    },
    {
      "cell_type": "code",
      "source": [
        "library(openair)"
      ],
      "metadata": {
        "id": "IR5V9i7vZLQV"
      },
      "execution_count": null,
      "outputs": []
    },
    {
      "cell_type": "code",
      "source": [
        "kc1 <- importAURN(site = \"kc1\", year = 2020)"
      ],
      "metadata": {
        "id": "bvkzEzQwZStN"
      },
      "execution_count": null,
      "outputs": []
    },
    {
      "cell_type": "code",
      "source": [
        "kc1"
      ],
      "metadata": {
        "id": "qKEUquR9ZYe0"
      },
      "execution_count": null,
      "outputs": []
    },
    {
      "cell_type": "code",
      "source": [
        "sub <- selectByDate(kc1,\n",
        "  day = \"weekday\",\n",
        "  year = 2020,\n",
        "  month = 6:9,\n",
        "  hour = 7:19\n",
        ")\n",
        "sub"
      ],
      "metadata": {
        "id": "a4qFmR29Zfhl"
      },
      "execution_count": null,
      "outputs": []
    },
    {
      "cell_type": "code",
      "source": [
        "sub2 <- timeAverage(kc1, avg.time = \"2 week\")"
      ],
      "metadata": {
        "id": "Un6KGEq1ZpfI"
      },
      "execution_count": null,
      "outputs": []
    },
    {
      "cell_type": "code",
      "source": [
        "windRose(mydata)"
      ],
      "metadata": {
        "id": "BtGayOdiZuGh"
      },
      "execution_count": null,
      "outputs": []
    }
  ]
}